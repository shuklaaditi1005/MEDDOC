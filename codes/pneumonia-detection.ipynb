{
 "cells": [
  {
   "cell_type": "code",
   "execution_count": 1,
   "metadata": {
    "_cell_guid": "b1076dfc-b9ad-4769-8c92-a6c4dae69d19",
    "_uuid": "8f2839f25d086af736a60e9eeb907d3b93b6e0e5",
    "execution": {
     "iopub.execute_input": "2021-06-07T05:16:20.831146Z",
     "iopub.status.busy": "2021-06-07T05:16:20.830462Z",
     "iopub.status.idle": "2021-06-07T05:16:29.116383Z",
     "shell.execute_reply": "2021-06-07T05:16:29.115041Z",
     "shell.execute_reply.started": "2021-06-07T05:16:20.831103Z"
    }
   },
   "outputs": [],
   "source": [
    "# import required libraries\n",
    "import os\n",
    "import cv2\n",
    "import numpy as np\n",
    "import matplotlib.pyplot as plt\n",
    "\n",
    "from tensorflow.keras.models import Sequential\n",
    "from tensorflow.keras.preprocessing import image\n",
    "from mlxtend.plotting import plot_confusion_matrix\n",
    "from tensorflow.keras.preprocessing.image import ImageDataGenerator\n",
    "from sklearn.metrics import accuracy_score, confusion_matrix\n",
    "\n",
    "from tensorflow.keras.layers import Dense, Conv2D, Dropout, Flatten, Activation\n",
    "from tensorflow.keras.layers import SeparableConv2D, MaxPool2D, BatchNormalization\n",
    "from tensorflow.keras.callbacks import ModelCheckpoint, ReduceLROnPlateau, EarlyStopping"
   ]
  },
  {
   "cell_type": "code",
   "execution_count": 2,
   "metadata": {
    "execution": {
     "iopub.execute_input": "2021-06-07T05:16:29.121761Z",
     "iopub.status.busy": "2021-06-07T05:16:29.121377Z",
     "iopub.status.idle": "2021-06-07T05:16:29.126067Z",
     "shell.execute_reply": "2021-06-07T05:16:29.125265Z",
     "shell.execute_reply.started": "2021-06-07T05:16:29.121716Z"
    }
   },
   "outputs": [],
   "source": [
    "import warnings\n",
    "warnings.filterwarnings('ignore')"
   ]
  },
  {
   "cell_type": "code",
   "execution_count": 3,
   "metadata": {
    "execution": {
     "iopub.execute_input": "2021-06-07T05:18:07.875620Z",
     "iopub.status.busy": "2021-06-07T05:18:07.875222Z",
     "iopub.status.idle": "2021-06-07T05:18:07.881193Z",
     "shell.execute_reply": "2021-06-07T05:18:07.879525Z",
     "shell.execute_reply.started": "2021-06-07T05:18:07.875582Z"
    }
   },
   "outputs": [],
   "source": [
    "# define some variables for later usage\n",
    "epochs = 10\n",
    "img_size = 150\n",
    "batch_size = 32\n",
    "drct_path = '../input/chest-xray-pneumonia/chest_xray'"
   ]
  },
  {
   "cell_type": "code",
   "execution_count": 4,
   "metadata": {
    "execution": {
     "iopub.execute_input": "2021-06-07T05:18:09.007433Z",
     "iopub.status.busy": "2021-06-07T05:18:09.007052Z",
     "iopub.status.idle": "2021-06-07T05:18:11.229231Z",
     "shell.execute_reply": "2021-06-07T05:18:11.225135Z",
     "shell.execute_reply.started": "2021-06-07T05:18:09.007401Z"
    }
   },
   "outputs": [
    {
     "ename": "FileNotFoundError",
     "evalue": "[WinError 3] The system cannot find the path specified: '../input/chest-xray-pneumonia/chest_xray/train/NORMAL'",
     "output_type": "error",
     "traceback": [
      "\u001b[1;31m---------------------------------------------------------------------------\u001b[0m",
      "\u001b[1;31mFileNotFoundError\u001b[0m                         Traceback (most recent call last)",
      "\u001b[1;32m~\\AppData\\Local\\Temp/ipykernel_10120/775931290.py\u001b[0m in \u001b[0;36m<module>\u001b[1;34m\u001b[0m\n\u001b[0;32m      5\u001b[0m \u001b[1;32mfor\u001b[0m \u001b[0mi\u001b[0m\u001b[1;33m,\u001b[0m \u001b[0m_set\u001b[0m \u001b[1;32min\u001b[0m \u001b[0menumerate\u001b[0m\u001b[1;33m(\u001b[0m\u001b[1;33m[\u001b[0m\u001b[1;34m'train'\u001b[0m\u001b[1;33m,\u001b[0m \u001b[1;34m'val'\u001b[0m\u001b[1;33m,\u001b[0m \u001b[1;34m'test'\u001b[0m\u001b[1;33m]\u001b[0m\u001b[1;33m)\u001b[0m\u001b[1;33m:\u001b[0m\u001b[1;33m\u001b[0m\u001b[1;33m\u001b[0m\u001b[0m\n\u001b[0;32m      6\u001b[0m     \u001b[0mset_path\u001b[0m \u001b[1;33m=\u001b[0m \u001b[0mdrct_path\u001b[0m \u001b[1;33m+\u001b[0m\u001b[1;34m'/'\u001b[0m\u001b[1;33m+\u001b[0m \u001b[0m_set\u001b[0m\u001b[1;33m\u001b[0m\u001b[1;33m\u001b[0m\u001b[0m\n\u001b[1;32m----> 7\u001b[1;33m     \u001b[0max\u001b[0m\u001b[1;33m[\u001b[0m\u001b[0mi\u001b[0m\u001b[1;33m]\u001b[0m\u001b[1;33m.\u001b[0m\u001b[0mimshow\u001b[0m\u001b[1;33m(\u001b[0m\u001b[0mplt\u001b[0m\u001b[1;33m.\u001b[0m\u001b[0mimread\u001b[0m\u001b[1;33m(\u001b[0m\u001b[0mset_path\u001b[0m \u001b[1;33m+\u001b[0m \u001b[1;34m'/NORMAL/'\u001b[0m \u001b[1;33m+\u001b[0m \u001b[0mos\u001b[0m\u001b[1;33m.\u001b[0m\u001b[0mlistdir\u001b[0m\u001b[1;33m(\u001b[0m\u001b[0mset_path\u001b[0m \u001b[1;33m+\u001b[0m \u001b[1;34m'/NORMAL'\u001b[0m\u001b[1;33m)\u001b[0m\u001b[1;33m[\u001b[0m\u001b[1;36m0\u001b[0m\u001b[1;33m]\u001b[0m\u001b[1;33m)\u001b[0m\u001b[1;33m,\u001b[0m \u001b[0mcmap\u001b[0m \u001b[1;33m=\u001b[0m \u001b[1;34m'gray'\u001b[0m\u001b[1;33m)\u001b[0m\u001b[1;33m\u001b[0m\u001b[1;33m\u001b[0m\u001b[0m\n\u001b[0m\u001b[0;32m      8\u001b[0m     \u001b[0max\u001b[0m\u001b[1;33m[\u001b[0m\u001b[0mi\u001b[0m\u001b[1;33m]\u001b[0m\u001b[1;33m.\u001b[0m\u001b[0mset_title\u001b[0m\u001b[1;33m(\u001b[0m\u001b[1;34m'Data: {} \\n Type: Normal'\u001b[0m\u001b[1;33m.\u001b[0m\u001b[0mformat\u001b[0m\u001b[1;33m(\u001b[0m\u001b[0m_set\u001b[0m\u001b[1;33m)\u001b[0m\u001b[1;33m,\u001b[0m \u001b[0mfontsize\u001b[0m \u001b[1;33m=\u001b[0m \u001b[1;36m13\u001b[0m\u001b[1;33m)\u001b[0m\u001b[1;33m\u001b[0m\u001b[1;33m\u001b[0m\u001b[0m\n\u001b[0;32m      9\u001b[0m     \u001b[0max\u001b[0m\u001b[1;33m[\u001b[0m\u001b[0mi\u001b[0m\u001b[1;33m+\u001b[0m\u001b[1;36m3\u001b[0m\u001b[1;33m]\u001b[0m\u001b[1;33m.\u001b[0m\u001b[0mimshow\u001b[0m\u001b[1;33m(\u001b[0m\u001b[0mplt\u001b[0m\u001b[1;33m.\u001b[0m\u001b[0mimread\u001b[0m\u001b[1;33m(\u001b[0m\u001b[0mset_path\u001b[0m \u001b[1;33m+\u001b[0m \u001b[1;34m'/PNEUMONIA/'\u001b[0m \u001b[1;33m+\u001b[0m \u001b[0mos\u001b[0m\u001b[1;33m.\u001b[0m\u001b[0mlistdir\u001b[0m\u001b[1;33m(\u001b[0m\u001b[0mset_path\u001b[0m \u001b[1;33m+\u001b[0m \u001b[1;34m'/PNEUMONIA'\u001b[0m\u001b[1;33m)\u001b[0m\u001b[1;33m[\u001b[0m\u001b[1;36m0\u001b[0m\u001b[1;33m]\u001b[0m\u001b[1;33m)\u001b[0m\u001b[1;33m,\u001b[0m \u001b[0mcmap\u001b[0m \u001b[1;33m=\u001b[0m \u001b[1;34m'gray'\u001b[0m\u001b[1;33m)\u001b[0m\u001b[1;33m\u001b[0m\u001b[1;33m\u001b[0m\u001b[0m\n",
      "\u001b[1;31mFileNotFoundError\u001b[0m: [WinError 3] The system cannot find the path specified: '../input/chest-xray-pneumonia/chest_xray/train/NORMAL'"
     ]
    },
    {
     "data": {
      "image/png": "[encoded data removed]",
      "text/plain": [
       "<Figure size 1080x648 with 6 Axes>"
      ]
     },
     "metadata": {
      "needs_background": "light"
     },
     "output_type": "display_data"
    }
   ],
   "source": [
    "fig, ax = plt.subplots(2, 3, figsize = (15, 9))\n",
    "ax = ax.ravel()\n",
    "plt.tight_layout()\n",
    "\n",
    "for i, _set in enumerate(['train', 'val', 'test']):\n",
    "    set_path = drct_path +'/'+ _set\n",
    "    ax[i].imshow(plt.imread(set_path + '/NORMAL/' + os.listdir(set_path + '/NORMAL')[0]), cmap = 'gray')\n",
    "    ax[i].set_title('Data: {} \\n Type: Normal'.format(_set), fontsize = 13)\n",
    "    ax[i+3].imshow(plt.imread(set_path + '/PNEUMONIA/' + os.listdir(set_path + '/PNEUMONIA')[0]), cmap = 'gray')\n",
    "    ax[i+3].set_title('Data: {} \\n Type: Pneumonia'.format(_set), fontsize = 13)"
   ]
  },
  {
   "cell_type": "code",
   "execution_count": null,
   "metadata": {
    "execution": {
     "iopub.execute_input": "2021-06-07T05:18:44.501195Z",
     "iopub.status.busy": "2021-06-07T05:18:44.500797Z",
     "iopub.status.idle": "2021-06-07T05:18:44.533207Z",
     "shell.execute_reply": "2021-06-07T05:18:44.531852Z",
     "shell.execute_reply.started": "2021-06-07T05:18:44.501163Z"
    }
   },
   "outputs": [],
   "source": [
    "# checking the shape of some images from both types\n",
    "img_n = plt.imread(set_path + '/NORMAL/' + os.listdir(set_path + '/NORMAL')[0])\n",
    "img_p = plt.imread(set_path + '/PNEUMONIA/' + os.listdir(set_path + '/PNEUMONIA')[0])\n",
    "print(f'Normal size:  {img_n.shape}')\n",
    "print(f'Pneumonia size:  {img_p.shape}')"
   ]
  },
  {
   "cell_type": "code",
   "execution_count": null,
   "metadata": {
    "execution": {
     "iopub.execute_input": "2021-06-07T05:19:18.644116Z",
     "iopub.status.busy": "2021-06-07T05:19:18.643682Z",
     "iopub.status.idle": "2021-06-07T05:19:18.654488Z",
     "shell.execute_reply": "2021-06-07T05:19:18.653281Z",
     "shell.execute_reply.started": "2021-06-07T05:19:18.644076Z"
    }
   },
   "outputs": [],
   "source": [
    "# checking the no. of validating images for each type\n",
    "print ('Normal counts: {}'.format(len(os.listdir(drct_path + '/'+'val/NORMAL/'))))\n",
    "print ('Pneumonia counts: {}'.format(len(os.listdir(drct_path + '/'+'val/PNEUMONIA/'))))"
   ]
  },
  {
   "cell_type": "code",
   "execution_count": 5,
   "metadata": {
    "execution": {
     "iopub.execute_input": "2021-06-07T05:19:28.385609Z",
     "iopub.status.busy": "2021-06-07T05:19:28.384848Z",
     "iopub.status.idle": "2021-06-07T05:19:28.397453Z",
     "shell.execute_reply": "2021-06-07T05:19:28.395802Z",
     "shell.execute_reply.started": "2021-06-07T05:19:28.385550Z"
    }
   },
   "outputs": [
    {
     "ename": "FileNotFoundError",
     "evalue": "[WinError 3] The system cannot find the path specified: '../input/chest-xray-pneumonia/chest_xray/test/NORMAL/'",
     "output_type": "error",
     "traceback": [
      "\u001b[1;31m---------------------------------------------------------------------------\u001b[0m",
      "\u001b[1;31mFileNotFoundError\u001b[0m                         Traceback (most recent call last)",
      "\u001b[1;32m~\\AppData\\Local\\Temp/ipykernel_10120/3260121474.py\u001b[0m in \u001b[0;36m<module>\u001b[1;34m\u001b[0m\n\u001b[0;32m      1\u001b[0m \u001b[1;31m# checking the no. of test images for each type\u001b[0m\u001b[1;33m\u001b[0m\u001b[1;33m\u001b[0m\u001b[1;33m\u001b[0m\u001b[0m\n\u001b[1;32m----> 2\u001b[1;33m \u001b[0mprint\u001b[0m \u001b[1;33m(\u001b[0m\u001b[1;34m'Normal counts: {}'\u001b[0m\u001b[1;33m.\u001b[0m\u001b[0mformat\u001b[0m\u001b[1;33m(\u001b[0m\u001b[0mlen\u001b[0m\u001b[1;33m(\u001b[0m\u001b[0mos\u001b[0m\u001b[1;33m.\u001b[0m\u001b[0mlistdir\u001b[0m\u001b[1;33m(\u001b[0m\u001b[0mdrct_path\u001b[0m \u001b[1;33m+\u001b[0m \u001b[1;34m'/'\u001b[0m\u001b[1;33m+\u001b[0m \u001b[1;34m'test/NORMAL/'\u001b[0m\u001b[1;33m)\u001b[0m\u001b[1;33m)\u001b[0m\u001b[1;33m)\u001b[0m\u001b[1;33m)\u001b[0m\u001b[1;33m\u001b[0m\u001b[1;33m\u001b[0m\u001b[0m\n\u001b[0m\u001b[0;32m      3\u001b[0m \u001b[0mprint\u001b[0m \u001b[1;33m(\u001b[0m\u001b[1;34m'Pneumonia counts: {}'\u001b[0m\u001b[1;33m.\u001b[0m\u001b[0mformat\u001b[0m\u001b[1;33m(\u001b[0m\u001b[0mlen\u001b[0m\u001b[1;33m(\u001b[0m\u001b[0mos\u001b[0m\u001b[1;33m.\u001b[0m\u001b[0mlistdir\u001b[0m\u001b[1;33m(\u001b[0m\u001b[0mdrct_path\u001b[0m \u001b[1;33m+\u001b[0m\u001b[1;34m'/'\u001b[0m\u001b[1;33m+\u001b[0m \u001b[1;34m'test/PNEUMONIA/'\u001b[0m\u001b[1;33m)\u001b[0m\u001b[1;33m)\u001b[0m\u001b[1;33m)\u001b[0m\u001b[1;33m)\u001b[0m\u001b[1;33m\u001b[0m\u001b[1;33m\u001b[0m\u001b[0m\n",
      "\u001b[1;31mFileNotFoundError\u001b[0m: [WinError 3] The system cannot find the path specified: '../input/chest-xray-pneumonia/chest_xray/test/NORMAL/'"
     ]
    }
   ],
   "source": [
    "# checking the no. of test images for each type\n",
    "print ('Normal counts: {}'.format(len(os.listdir(drct_path + '/'+ 'test/NORMAL/'))))\n",
    "print ('Pneumonia counts: {}'.format(len(os.listdir(drct_path +'/'+ 'test/PNEUMONIA/'))))"
   ]
  },
  {
   "cell_type": "code",
   "execution_count": 6,
   "metadata": {
    "execution": {
     "iopub.execute_input": "2021-06-07T05:19:34.880446Z",
     "iopub.status.busy": "2021-06-07T05:19:34.879959Z",
     "iopub.status.idle": "2021-06-07T05:19:34.891892Z",
     "shell.execute_reply": "2021-06-07T05:19:34.891107Z",
     "shell.execute_reply.started": "2021-06-07T05:19:34.880413Z"
    }
   },
   "outputs": [
    {
     "ename": "FileNotFoundError",
     "evalue": "[WinError 3] The system cannot find the path specified: '../input/chest-xray-pneumonia/chest_xray/train/NORMAL/'",
     "output_type": "error",
     "traceback": [
      "\u001b[1;31m---------------------------------------------------------------------------\u001b[0m",
      "\u001b[1;31mFileNotFoundError\u001b[0m                         Traceback (most recent call last)",
      "\u001b[1;32m~\\AppData\\Local\\Temp/ipykernel_10120/2476460166.py\u001b[0m in \u001b[0;36m<module>\u001b[1;34m\u001b[0m\n\u001b[0;32m      1\u001b[0m \u001b[1;31m# checking the no. of training images for each type\u001b[0m\u001b[1;33m\u001b[0m\u001b[1;33m\u001b[0m\u001b[1;33m\u001b[0m\u001b[0m\n\u001b[1;32m----> 2\u001b[1;33m \u001b[0mprint\u001b[0m \u001b[1;33m(\u001b[0m\u001b[1;34m'Normal counts: {}'\u001b[0m\u001b[1;33m.\u001b[0m\u001b[0mformat\u001b[0m\u001b[1;33m(\u001b[0m\u001b[0mlen\u001b[0m\u001b[1;33m(\u001b[0m\u001b[0mos\u001b[0m\u001b[1;33m.\u001b[0m\u001b[0mlistdir\u001b[0m\u001b[1;33m(\u001b[0m\u001b[0mdrct_path\u001b[0m \u001b[1;33m+\u001b[0m  \u001b[1;34m'/'\u001b[0m\u001b[1;33m+\u001b[0m\u001b[1;34m'train/NORMAL/'\u001b[0m\u001b[1;33m)\u001b[0m\u001b[1;33m)\u001b[0m\u001b[1;33m)\u001b[0m\u001b[1;33m)\u001b[0m\u001b[1;33m\u001b[0m\u001b[1;33m\u001b[0m\u001b[0m\n\u001b[0m\u001b[0;32m      3\u001b[0m \u001b[0mprint\u001b[0m \u001b[1;33m(\u001b[0m\u001b[1;34m'Pneumonia counts: {}'\u001b[0m\u001b[1;33m.\u001b[0m\u001b[0mformat\u001b[0m\u001b[1;33m(\u001b[0m\u001b[0mlen\u001b[0m\u001b[1;33m(\u001b[0m\u001b[0mos\u001b[0m\u001b[1;33m.\u001b[0m\u001b[0mlistdir\u001b[0m\u001b[1;33m(\u001b[0m\u001b[0mdrct_path\u001b[0m \u001b[1;33m+\u001b[0m \u001b[1;34m'/'\u001b[0m\u001b[1;33m+\u001b[0m \u001b[1;34m'train/PNEUMONIA/'\u001b[0m\u001b[1;33m)\u001b[0m\u001b[1;33m)\u001b[0m\u001b[1;33m)\u001b[0m\u001b[1;33m)\u001b[0m\u001b[1;33m\u001b[0m\u001b[1;33m\u001b[0m\u001b[0m\n",
      "\u001b[1;31mFileNotFoundError\u001b[0m: [WinError 3] The system cannot find the path specified: '../input/chest-xray-pneumonia/chest_xray/train/NORMAL/'"
     ]
    }
   ],
   "source": [
    "# checking the no. of training images for each type\n",
    "print ('Normal counts: {}'.format(len(os.listdir(drct_path +  '/'+'train/NORMAL/'))))\n",
    "print ('Pneumonia counts: {}'.format(len(os.listdir(drct_path + '/'+ 'train/PNEUMONIA/'))))"
   ]
  },
  {
   "cell_type": "markdown",
   "metadata": {},
   "source": [
    "As the above script shows that the dataset is highly imbalanced as the number of pneumonia classes is lot more than the number of normal classes.\n",
    "\n",
    "We can handle this imbalanced issue by applying data augmentation technique to enlarge the size of the minority class (Normal images) in order to optimise the performance of the model and avoid overfitting.\n",
    "\n",
    "For the data augmentation, we will do:\n",
    "\n",
    "1.Rescale pixel values from the range of 0-255 to the range 0-1.\n",
    "  2.Randomly Zoom by 30% some training images.\n",
    "  3.Randomly flip images vertically."
   ]
  },
  {
   "cell_type": "code",
   "execution_count": 23,
   "metadata": {
    "execution": {
     "iopub.execute_input": "2021-06-07T05:25:15.550071Z",
     "iopub.status.busy": "2021-06-07T05:25:15.549483Z",
     "iopub.status.idle": "2021-06-07T05:25:18.273804Z",
     "shell.execute_reply": "2021-06-07T05:25:18.272636Z",
     "shell.execute_reply.started": "2021-06-07T05:25:15.550031Z"
    }
   },
   "outputs": [
    {
     "name": "stdout",
     "output_type": "stream",
     "text": [
      "Found 5216 images belonging to 2 classes.\n"
     ]
    }
   ],
   "source": [
    "# ImageDataGenerator allows the network to \"see\" more diversified,\n",
    "# but still representative, data points during training\n",
    "train_datagen = ImageDataGenerator(rescale = 1./255, # transform pixeles from range 0-255 to range 0-1\n",
    "                                   zoom_range = 0.3, # randomly zoom image \n",
    "                                   vertical_flip = True) # randomly flip images\n",
    "\n",
    "# load a mini batch of images directly from the source folder then convert them into a vector of attributes\n",
    "training_set = train_datagen.flow_from_directory(directory = drct_path + '/'+'train',\n",
    "                                                 batch_size = batch_size,\n",
    "                                                 target_size = (img_size, img_size),\n",
    "                                                 shuffle = True,\n",
    "                                                 class_mode = 'binary')"
   ]
  },
  {
   "cell_type": "code",
   "execution_count": 24,
   "metadata": {
    "execution": {
     "iopub.execute_input": "2021-06-07T05:25:19.424648Z",
     "iopub.status.busy": "2021-06-07T05:25:19.424270Z",
     "iopub.status.idle": "2021-06-07T05:25:19.536965Z",
     "shell.execute_reply": "2021-06-07T05:25:19.536052Z",
     "shell.execute_reply.started": "2021-06-07T05:25:19.424614Z"
    }
   },
   "outputs": [
    {
     "name": "stdout",
     "output_type": "stream",
     "text": [
      "Found 624 images belonging to 2 classes.\n"
     ]
    }
   ],
   "source": [
    "# prepare test data\n",
    "test_datagen = ImageDataGenerator(rescale = 1./255)\n",
    "\n",
    "test_set = test_datagen.flow_from_directory(directory = drct_path + '/'+'test',\n",
    "                                            batch_size = batch_size,\n",
    "                                            target_size = (img_size, img_size),\n",
    "                                            shuffle = True,\n",
    "                                            class_mode = 'binary')"
   ]
  },
  {
   "cell_type": "markdown",
   "metadata": {},
   "source": [
    "Building the Model\n",
    "\n",
    "We are going to build a CNN that has 5 Convolution layers. After each convolution, we will add a Pooling layer using max-pooling. After the final convolutional layer, we will add some Fully Connected layers after that flattening step, these nodes will act as an input layer to these fully-connected layers.\n",
    "\n",
    "Dense is the function to add a fully connected layer, \"units\" is where we define the number of nodes that should be present in this hidden layer. The last Fully Connected layer or the output layer has only 1 \"unit\" because it needs to predict in binary (if someone has pneumonia or not)."
   ]
  },
  {
   "cell_type": "code",
   "execution_count": 25,
   "metadata": {
    "execution": {
     "iopub.execute_input": "2021-06-07T05:25:23.326738Z",
     "iopub.status.busy": "2021-06-07T05:25:23.326243Z",
     "iopub.status.idle": "2021-06-07T05:25:23.610267Z",
     "shell.execute_reply": "2021-06-07T05:25:23.609284Z",
     "shell.execute_reply.started": "2021-06-07T05:25:23.326637Z"
    }
   },
   "outputs": [],
   "source": [
    "model = Sequential()\n",
    "\n",
    "# 1st conv\n",
    "model.add(Conv2D(filters = 16, kernel_size = (3, 3), input_shape = (img_size, img_size, 3), activation = 'relu', padding = 'same'))\n",
    "model.add(Conv2D(filters = 16, kernel_size = (3, 3), activation = 'relu', padding = 'same'))\n",
    "model.add(MaxPool2D(pool_size = (2, 2)))\n",
    "\n",
    "# 2nd conv\n",
    "model.add(SeparableConv2D(filters = 32, kernel_size = (3, 3), activation = 'relu', padding = 'same'))\n",
    "model.add(SeparableConv2D(filters = 32, kernel_size = (3, 3), activation = 'relu', padding = 'same'))\n",
    "model.add(BatchNormalization())\n",
    "model.add(MaxPool2D(pool_size = (2, 2)))\n",
    "\n",
    "# 3rd conv\n",
    "model.add(SeparableConv2D(filters = 64, kernel_size = (3, 3), activation = 'relu', padding = 'same'))\n",
    "model.add(SeparableConv2D(filters = 64, kernel_size = (3, 3), activation = 'relu', padding = 'same'))\n",
    "model.add(BatchNormalization())\n",
    "model.add(MaxPool2D(pool_size=(2, 2)))\n",
    "\n",
    "# 4th conv\n",
    "model.add(SeparableConv2D(filters = 128, kernel_size = (3, 3), activation = 'relu', padding = 'same'))\n",
    "model.add(SeparableConv2D(filters = 128, kernel_size = (3, 3), activation = 'relu', padding = 'same'))\n",
    "model.add(BatchNormalization())\n",
    "model.add(MaxPool2D(pool_size = (2, 2)))\n",
    "model.add(Dropout(rate = 0.2))\n",
    "\n",
    "# 5th conv\n",
    "model.add(SeparableConv2D(filters = 256, kernel_size = (3, 3), activation = 'relu', padding = 'same'))\n",
    "model.add(SeparableConv2D(filters = 256, kernel_size = (3, 3), activation = 'relu', padding = 'same'))\n",
    "model.add(BatchNormalization())\n",
    "model.add(MaxPool2D(pool_size = (2, 2)))\n",
    "model.add(Dropout(rate = 0.2))\n",
    "\n",
    "# fully connected layer\n",
    "model.add(Flatten())\n",
    "model.add(Dense(units = 512, activation = 'relu'))\n",
    "model.add(Dropout(rate = 0.7))\n",
    "model.add(Dense(units = 128, activation = 'relu'))\n",
    "model.add(Dropout(rate = 0.5))\n",
    "model.add(Dense(units = 64, activation = 'relu'))\n",
    "model.add(Dropout(rate = 0.3))\n",
    "\n",
    "# output layer\n",
    "model.add(Dense(units = 1, activation = 'sigmoid'))"
   ]
  },
  {
   "cell_type": "code",
   "execution_count": 26,
   "metadata": {
    "execution": {
     "iopub.execute_input": "2021-06-07T05:25:24.715175Z",
     "iopub.status.busy": "2021-06-07T05:25:24.714753Z",
     "iopub.status.idle": "2021-06-07T05:25:24.731299Z",
     "shell.execute_reply": "2021-06-07T05:25:24.730023Z",
     "shell.execute_reply.started": "2021-06-07T05:25:24.715139Z"
    }
   },
   "outputs": [
    {
     "name": "stdout",
     "output_type": "stream",
     "text": [
      "Model: \"sequential_1\"\n",
      "_________________________________________________________________\n",
      "Layer (type)                 Output Shape              Param #   \n",
      "=================================================================\n",
      "conv2d_2 (Conv2D)            (None, 150, 150, 16)      448       \n",
      "_________________________________________________________________\n",
      "conv2d_3 (Conv2D)            (None, 150, 150, 16)      2320      \n",
      "_________________________________________________________________\n",
      "max_pooling2d_5 (MaxPooling2 (None, 75, 75, 16)        0         \n",
      "_________________________________________________________________\n",
      "separable_conv2d_8 (Separabl (None, 75, 75, 32)        688       \n",
      "_________________________________________________________________\n",
      "separable_conv2d_9 (Separabl (None, 75, 75, 32)        1344      \n",
      "_________________________________________________________________\n",
      "batch_normalization_4 (Batch (None, 75, 75, 32)        128       \n",
      "_________________________________________________________________\n",
      "max_pooling2d_6 (MaxPooling2 (None, 37, 37, 32)        0         \n",
      "_________________________________________________________________\n",
      "separable_conv2d_10 (Separab (None, 37, 37, 64)        2400      \n",
      "_________________________________________________________________\n",
      "separable_conv2d_11 (Separab (None, 37, 37, 64)        4736      \n",
      "_________________________________________________________________\n",
      "batch_normalization_5 (Batch (None, 37, 37, 64)        256       \n",
      "_________________________________________________________________\n",
      "max_pooling2d_7 (MaxPooling2 (None, 18, 18, 64)        0         \n",
      "_________________________________________________________________\n",
      "separable_conv2d_12 (Separab (None, 18, 18, 128)       8896      \n",
      "_________________________________________________________________\n",
      "separable_conv2d_13 (Separab (None, 18, 18, 128)       17664     \n",
      "_________________________________________________________________\n",
      "batch_normalization_6 (Batch (None, 18, 18, 128)       512       \n",
      "_________________________________________________________________\n",
      "max_pooling2d_8 (MaxPooling2 (None, 9, 9, 128)         0         \n",
      "_________________________________________________________________\n",
      "dropout_5 (Dropout)          (None, 9, 9, 128)         0         \n",
      "_________________________________________________________________\n",
      "separable_conv2d_14 (Separab (None, 9, 9, 256)         34176     \n",
      "_________________________________________________________________\n",
      "separable_conv2d_15 (Separab (None, 9, 9, 256)         68096     \n",
      "_________________________________________________________________\n",
      "batch_normalization_7 (Batch (None, 9, 9, 256)         1024      \n",
      "_________________________________________________________________\n",
      "max_pooling2d_9 (MaxPooling2 (None, 4, 4, 256)         0         \n",
      "_________________________________________________________________\n",
      "dropout_6 (Dropout)          (None, 4, 4, 256)         0         \n",
      "_________________________________________________________________\n",
      "flatten_1 (Flatten)          (None, 4096)              0         \n",
      "_________________________________________________________________\n",
      "dense_4 (Dense)              (None, 512)               2097664   \n",
      "_________________________________________________________________\n",
      "dropout_7 (Dropout)          (None, 512)               0         \n",
      "_________________________________________________________________\n",
      "dense_5 (Dense)              (None, 128)               65664     \n",
      "_________________________________________________________________\n",
      "dropout_8 (Dropout)          (None, 128)               0         \n",
      "_________________________________________________________________\n",
      "dense_6 (Dense)              (None, 64)                8256      \n",
      "_________________________________________________________________\n",
      "dropout_9 (Dropout)          (None, 64)                0         \n",
      "_________________________________________________________________\n",
      "dense_7 (Dense)              (None, 1)                 65        \n",
      "=================================================================\n",
      "Total params: 2,314,337\n",
      "Trainable params: 2,313,377\n",
      "Non-trainable params: 960\n",
      "_________________________________________________________________\n"
     ]
    }
   ],
   "source": [
    "#complete summary of the model\n",
    "model.summary()"
   ]
  },
  {
   "cell_type": "code",
   "execution_count": 27,
   "metadata": {
    "execution": {
     "iopub.execute_input": "2021-06-07T05:25:28.756340Z",
     "iopub.status.busy": "2021-06-07T05:25:28.755925Z",
     "iopub.status.idle": "2021-06-07T05:25:28.771473Z",
     "shell.execute_reply": "2021-06-07T05:25:28.769904Z",
     "shell.execute_reply.started": "2021-06-07T05:25:28.756305Z"
    }
   },
   "outputs": [],
   "source": [
    "# compiling the sequential model\n",
    "model.compile(optimizer = 'adam', loss = 'binary_crossentropy', metrics = ['accuracy'])"
   ]
  },
  {
   "cell_type": "code",
   "execution_count": 28,
   "metadata": {
    "execution": {
     "iopub.execute_input": "2021-06-07T05:25:30.511836Z",
     "iopub.status.busy": "2021-06-07T05:25:30.511470Z",
     "iopub.status.idle": "2021-06-07T05:25:30.517779Z",
     "shell.execute_reply": "2021-06-07T05:25:30.516722Z",
     "shell.execute_reply.started": "2021-06-07T05:25:30.511805Z"
    }
   },
   "outputs": [],
   "source": [
    "# callbacks\n",
    "checkpoint = ModelCheckpoint(filepath = 'Pneumonia.h5', save_best_only = True, save_weights_only = True)\n",
    "lr_reduce = ReduceLROnPlateau(monitor = 'val_loss', factor = 0.3, patience = 2, verbose = 2, mode = 'max')\n",
    "early_stop = EarlyStopping(monitor = 'val_loss', min_delta = 0.1, patience = 1, mode = 'min')"
   ]
  },
  {
   "cell_type": "code",
   "execution_count": 46,
   "metadata": {
    "execution": {
     "iopub.execute_input": "2021-06-07T06:08:38.690281Z",
     "iopub.status.busy": "2021-06-07T06:08:38.689685Z",
     "iopub.status.idle": "2021-06-07T06:39:49.768871Z",
     "shell.execute_reply": "2021-06-07T06:39:49.768016Z",
     "shell.execute_reply.started": "2021-06-07T06:08:38.690219Z"
    }
   },
   "outputs": [
    {
     "name": "stdout",
     "output_type": "stream",
     "text": [
      "Epoch 1/10\n",
      "163/163 [==============================] - 187s 1s/step - loss: 0.1364 - accuracy: 0.9515 - val_loss: 0.2455 - val_accuracy: 0.9260\n",
      "Epoch 2/10\n",
      "163/163 [==============================] - 185s 1s/step - loss: 0.1385 - accuracy: 0.9521 - val_loss: 0.2759 - val_accuracy: 0.9211\n",
      "Epoch 3/10\n",
      "163/163 [==============================] - 187s 1s/step - loss: 0.1377 - accuracy: 0.9511 - val_loss: 0.2871 - val_accuracy: 0.9178\n",
      "Epoch 4/10\n",
      "163/163 [==============================] - 186s 1s/step - loss: 0.1391 - accuracy: 0.9526 - val_loss: 0.2706 - val_accuracy: 0.9211\n",
      "Epoch 5/10\n",
      "163/163 [==============================] - 186s 1s/step - loss: 0.1373 - accuracy: 0.9532 - val_loss: 0.2819 - val_accuracy: 0.9178\n",
      "\n",
      "Epoch 00005: ReduceLROnPlateau reducing learning rate to 8.100000013655517e-06.\n",
      "Epoch 6/10\n",
      "163/163 [==============================] - 192s 1s/step - loss: 0.1326 - accuracy: 0.9534 - val_loss: 0.2711 - val_accuracy: 0.9227\n",
      "Epoch 7/10\n",
      "163/163 [==============================] - 185s 1s/step - loss: 0.1459 - accuracy: 0.9486 - val_loss: 0.2577 - val_accuracy: 0.9211\n",
      "\n",
      "Epoch 00007: ReduceLROnPlateau reducing learning rate to 2.429999949526973e-06.\n",
      "Epoch 8/10\n",
      "163/163 [==============================] - 186s 1s/step - loss: 0.1290 - accuracy: 0.9530 - val_loss: 0.2464 - val_accuracy: 0.9260\n",
      "Epoch 9/10\n",
      "163/163 [==============================] - 190s 1s/step - loss: 0.1422 - accuracy: 0.9515 - val_loss: 0.2608 - val_accuracy: 0.9243\n",
      "\n",
      "Epoch 00009: ReduceLROnPlateau reducing learning rate to 7.289999985005124e-07.\n",
      "Epoch 10/10\n",
      "163/163 [==============================] - 186s 1s/step - loss: 0.1418 - accuracy: 0.9502 - val_loss: 0.2594 - val_accuracy: 0.9227\n"
     ]
    }
   ],
   "source": [
    "# fit the data to the cnn model\n",
    "cnn = model.fit_generator(training_set,\n",
    "                          epochs = epochs,\n",
    "                          steps_per_epoch = training_set.samples // batch_size,\n",
    "                          validation_data = test_set,\n",
    "                          validation_steps = test_set.samples // batch_size,\n",
    "                          callbacks = [checkpoint, lr_reduce])   "
   ]
  },
  {
   "cell_type": "code",
   "execution_count": 42,
   "metadata": {
    "execution": {
     "iopub.execute_input": "2021-06-07T06:08:12.609698Z",
     "iopub.status.busy": "2021-06-07T06:08:12.609277Z",
     "iopub.status.idle": "2021-06-07T06:08:12.654713Z",
     "shell.execute_reply": "2021-06-07T06:08:12.653958Z",
     "shell.execute_reply.started": "2021-06-07T06:08:12.609660Z"
    }
   },
   "outputs": [],
   "source": [
    "model.load_weights('./Pneumonia.h5')"
   ]
  },
  {
   "cell_type": "code",
   "execution_count": 43,
   "metadata": {
    "execution": {
     "iopub.execute_input": "2021-06-07T06:08:13.930182Z",
     "iopub.status.busy": "2021-06-07T06:08:13.929760Z",
     "iopub.status.idle": "2021-06-07T06:08:14.301425Z",
     "shell.execute_reply": "2021-06-07T06:08:14.300470Z",
     "shell.execute_reply.started": "2021-06-07T06:08:13.930147Z"
    }
   },
   "outputs": [
    {
     "name": "stdout",
     "output_type": "stream",
     "text": [
      "Predicted : Pnuemonia\n",
      "Actual : Pnuemonia\n"
     ]
    },
    {
     "data": {
      "text/plain": [
       "<matplotlib.image.AxesImage at 0x7fa064477c50>"
      ]
     },
     "execution_count": 43,
     "metadata": {},
     "output_type": "execute_result"
    },
    {
     "data": {
      "image/png": "[encoded data removed]",
      "text/plain": [
       "<Figure size 432x288 with 1 Axes>"
      ]
     },
     "metadata": {
      "needs_background": "light"
     },
     "output_type": "display_data"
    }
   ],
   "source": [
    "#lets see how it did on the data provided\n",
    "from keras.preprocessing import image\n",
    "rand_img = np.random.randint(0, len(os.listdir(drct_path +'/'+ 'val/PNEUMONIA/')))\n",
    "rand_img_path = drct_path + '/'+'val/PNEUMONIA/' + os.listdir(drct_path +'/'+ 'val/PNEUMONIA/')[rand_img]\n",
    "\n",
    "img = plt.imread(rand_img_path)\n",
    "img = cv2.resize(img, (img_size, img_size))\n",
    "img = np.dstack([img, img, img])\n",
    "img = img.astype('float32') / 255\n",
    "result = model.predict(np.expand_dims(image.img_to_array(img), axis = 0))  \n",
    "\n",
    "if result[0][0] >0.5:\n",
    "  prediction = 'Pnuemonia'\n",
    "else:\n",
    "  prediction = 'Normal'\n",
    "  \n",
    "print(f'Predicted : ' + prediction)\n",
    "print ('Actual : Pnuemonia')\n",
    "\n",
    "image = plt.imread(rand_img_path)\n",
    "plt.imshow(image)\n",
    "plt.title('Pnuemonia')\n",
    "plt.imshow(image, cmap = 'gray')\n"
   ]
  },
  {
   "cell_type": "code",
   "execution_count": 32,
   "metadata": {
    "execution": {
     "iopub.execute_input": "2021-06-07T05:59:53.015384Z",
     "iopub.status.busy": "2021-06-07T05:59:53.014914Z",
     "iopub.status.idle": "2021-06-07T06:00:04.323386Z",
     "shell.execute_reply": "2021-06-07T06:00:04.322284Z",
     "shell.execute_reply.started": "2021-06-07T05:59:53.015340Z"
    }
   },
   "outputs": [],
   "source": []
  },
  {
   "cell_type": "code",
   "execution_count": 44,
   "metadata": {
    "execution": {
     "iopub.execute_input": "2021-06-07T06:08:18.007993Z",
     "iopub.status.busy": "2021-06-07T06:08:18.007286Z",
     "iopub.status.idle": "2021-06-07T06:08:18.016425Z",
     "shell.execute_reply": "2021-06-07T06:08:18.015203Z",
     "shell.execute_reply.started": "2021-06-07T06:08:18.007937Z"
    }
   },
   "outputs": [
    {
     "name": "stdout",
     "output_type": "stream",
     "text": [
      "Test Metrics:\n",
      "Accuracy: 91.98717948717949%\n",
      "Precision: 89.90610328638498%\n",
      "Recall: 98.2051282051282%\n",
      "F1-score: 93.87254901960783\n"
     ]
    }
   ],
   "source": [
    "# calculate precision and recall\n",
    "tn, fp, fn, tp = mat.ravel()\n",
    "print('Test Metrics:')\n",
    "precision = tp / (tp + fp) * 100\n",
    "recall = tp / (tp + fn) * 100\n",
    "print('Accuracy: {}%'.format(acc))\n",
    "print('Precision: {}%'.format(precision))\n",
    "print('Recall: {}%'.format(recall))\n",
    "print('F1-score: {}'.format(2*precision*recall/(precision+recall)))"
   ]
  },
  {
   "cell_type": "code",
   "execution_count": 45,
   "metadata": {
    "execution": {
     "iopub.execute_input": "2021-06-07T06:08:24.189510Z",
     "iopub.status.busy": "2021-06-07T06:08:24.188980Z",
     "iopub.status.idle": "2021-06-07T06:08:24.195350Z",
     "shell.execute_reply": "2021-06-07T06:08:24.194513Z",
     "shell.execute_reply.started": "2021-06-07T06:08:24.189462Z"
    }
   },
   "outputs": [
    {
     "name": "stdout",
     "output_type": "stream",
     "text": [
      "Train Metric:\n",
      "Train accuracy: 95.13%\n"
     ]
    }
   ],
   "source": [
    "print('Train Metric:')\n",
    "print('Train accuracy: {}%'.format(np.round(cnn.history['accuracy'][-1]*100, 2)))"
   ]
  },
  {
   "cell_type": "code",
   "execution_count": null,
   "metadata": {},
   "outputs": [],
   "source": []
  }
 ],
 "metadata": {
  "kernelspec": {
   "display_name": "Python 3 (ipykernel)",
   "language": "python",
   "name": "python3"
  },
  "language_info": {
   "codemirror_mode": {
    "name": "ipython",
    "version": 3
   },
   "file_extension": ".py",
   "mimetype": "text/x-python",
   "name": "python",
   "nbconvert_exporter": "python",
   "pygments_lexer": "ipython3",
   "version": "3.9.6"
  }
 },
 "nbformat": 4,
 "nbformat_minor": 4
}
