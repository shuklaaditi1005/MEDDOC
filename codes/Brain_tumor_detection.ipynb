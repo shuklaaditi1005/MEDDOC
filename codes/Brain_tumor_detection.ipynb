{
 "cells": [
  {
   "cell_type": "markdown",
   "metadata": {
    "_cell_guid": "79c7e3d0-c299-4dcb-8224-4455121ee9b0",
    "_uuid": "d629ff2d2480ee46fbb7e2d37f6b5fab8052498a"
   },
   "source": [
    "### Libraries"
   ]
  },
  {
   "cell_type": "code",
   "execution_count": null,
   "metadata": {
    "execution": {
     "iopub.execute_input": "2021-06-02T11:02:04.086348Z",
     "iopub.status.busy": "2021-06-02T11:02:04.086028Z",
     "iopub.status.idle": "2021-06-02T11:02:09.867313Z",
     "shell.execute_reply": "2021-06-02T11:02:09.866359Z",
     "shell.execute_reply.started": "2021-06-02T11:02:04.086316Z"
    }
   },
   "outputs": [],
   "source": [
    "import os\n",
    "import numpy as np \n",
    "import pandas as pd \n",
    "import matplotlib.pyplot as plt \n",
    "import seaborn as sns\n",
    "from skimage.io import imread \n",
    "import keras\n",
    "from keras import Sequential\n",
    "from keras.applications import MobileNetV2\n",
    "from keras.layers import Dense \n",
    "from keras.preprocessing import image\n",
    "from keras import \n",
    "import tensorflow as tf \n",
    "import tensorflow.keras.layers as layers \n",
    "import warnings "
   ]
  },
  {
   "cell_type": "code",
   "execution_count": 2,
   "metadata": {
    "execution": {
     "iopub.execute_input": "2021-06-02T11:25:55.797512Z",
     "iopub.status.busy": "2021-06-02T11:25:55.797166Z",
     "iopub.status.idle": "2021-06-02T11:25:55.804515Z",
     "shell.execute_reply": "2021-06-02T11:25:55.803620Z",
     "shell.execute_reply.started": "2021-06-02T11:25:55.797483Z"
    }
   },
   "outputs": [],
   "source": [
    "# Reproducibility\n",
    "def set_seed(seed=42):\n",
    "    np.random.seed(seed)\n",
    "    tf.random.set_seed(seed)\n",
    "    os.environ['PYTHONHASHSEED'] = str(seed)\n",
    "    os.environ['TF_DETERMINISTIC_OPS'] = '1'\n",
    "set_seed()"
   ]
  },
  {
   "cell_type": "markdown",
   "metadata": {},
   "source": [
    "## Preliminary Data Analysis"
   ]
  },
  {
   "cell_type": "code",
   "execution_count": 3,
   "metadata": {
    "execution": {
     "iopub.execute_input": "2021-06-02T11:25:59.894106Z",
     "iopub.status.busy": "2021-06-02T11:25:59.893645Z",
     "iopub.status.idle": "2021-06-02T11:26:02.650986Z",
     "shell.execute_reply": "2021-06-02T11:26:02.650250Z",
     "shell.execute_reply.started": "2021-06-02T11:25:59.894065Z"
    }
   },
   "outputs": [
    {
     "data": {
      "text/html": [
       "<div>\n",
       "<style scoped>\n",
       "    .dataframe tbody tr th:only-of-type {\n",
       "        vertical-align: middle;\n",
       "    }\n",
       "\n",
       "    .dataframe tbody tr th {\n",
       "        vertical-align: top;\n",
       "    }\n",
       "\n",
       "    .dataframe thead th {\n",
       "        text-align: right;\n",
       "    }\n",
       "</style>\n",
       "<table border=\"1\" class=\"dataframe\">\n",
       "  <thead>\n",
       "    <tr style=\"text-align: right;\">\n",
       "      <th></th>\n",
       "      <th>Image</th>\n",
       "      <th>Class</th>\n",
       "    </tr>\n",
       "  </thead>\n",
       "  <tbody>\n",
       "    <tr>\n",
       "      <th>0</th>\n",
       "      <td>Image1</td>\n",
       "      <td>0</td>\n",
       "    </tr>\n",
       "    <tr>\n",
       "      <th>1</th>\n",
       "      <td>Image2</td>\n",
       "      <td>0</td>\n",
       "    </tr>\n",
       "    <tr>\n",
       "      <th>2</th>\n",
       "      <td>Image3</td>\n",
       "      <td>1</td>\n",
       "    </tr>\n",
       "    <tr>\n",
       "      <th>3</th>\n",
       "      <td>Image4</td>\n",
       "      <td>1</td>\n",
       "    </tr>\n",
       "    <tr>\n",
       "      <th>4</th>\n",
       "      <td>Image5</td>\n",
       "      <td>0</td>\n",
       "    </tr>\n",
       "  </tbody>\n",
       "</table>\n",
       "</div>"
      ],
      "text/plain": [
       "    Image  Class\n",
       "0  Image1      0\n",
       "1  Image2      0\n",
       "2  Image3      1\n",
       "3  Image4      1\n",
       "4  Image5      0"
      ]
     },
     "execution_count": 3,
     "metadata": {},
     "output_type": "execute_result"
    }
   ],
   "source": [
    "brain_df = pd.read_csv('../input/brain-tumor/Brain Tumor.csv', usecols=[0,1])\n",
    "brain_df.head()"
   ]
  },
  {
   "cell_type": "code",
   "execution_count": 4,
   "metadata": {
    "execution": {
     "iopub.execute_input": "2021-06-02T11:26:04.172767Z",
     "iopub.status.busy": "2021-06-02T11:26:04.172437Z",
     "iopub.status.idle": "2021-06-02T11:26:04.180568Z",
     "shell.execute_reply": "2021-06-02T11:26:04.179632Z",
     "shell.execute_reply.started": "2021-06-02T11:26:04.172738Z"
    }
   },
   "outputs": [
    {
     "data": {
      "text/plain": [
       "Image    0\n",
       "Class    0\n",
       "dtype: int64"
      ]
     },
     "execution_count": 4,
     "metadata": {},
     "output_type": "execute_result"
    }
   ],
   "source": [
    "# Check for null variables\n",
    "brain_df.isnull().sum()"
   ]
  },
  {
   "cell_type": "code",
   "execution_count": 5,
   "metadata": {
    "execution": {
     "iopub.execute_input": "2021-06-02T11:26:05.841007Z",
     "iopub.status.busy": "2021-06-02T11:26:05.840633Z",
     "iopub.status.idle": "2021-06-02T11:26:05.849913Z",
     "shell.execute_reply": "2021-06-02T11:26:05.848872Z",
     "shell.execute_reply.started": "2021-06-02T11:26:05.840975Z"
    }
   },
   "outputs": [
    {
     "data": {
      "text/plain": [
       "0    2079\n",
       "1    1683\n",
       "Name: Class, dtype: int64"
      ]
     },
     "execution_count": 5,
     "metadata": {},
     "output_type": "execute_result"
    }
   ],
   "source": [
    "# Check for imbalance\n",
    "brain_df['Class'].value_counts()"
   ]
  },
  {
   "cell_type": "code",
   "execution_count": 6,
   "metadata": {
    "execution": {
     "iopub.execute_input": "2021-06-02T11:26:07.879427Z",
     "iopub.status.busy": "2021-06-02T11:26:07.879106Z",
     "iopub.status.idle": "2021-06-02T11:26:08.001688Z",
     "shell.execute_reply": "2021-06-02T11:26:08.000887Z",
     "shell.execute_reply.started": "2021-06-02T11:26:07.879398Z"
    }
   },
   "outputs": [
    {
     "data": {
      "text/plain": [
       "<matplotlib.axes._subplots.AxesSubplot at 0x7faac6cf0450>"
      ]
     },
     "execution_count": 6,
     "metadata": {},
     "output_type": "execute_result"
    },
    {
     "data": {
      "image/png": "[encoded data removed]",
      "text/plain": [
       "<Figure size 432x288 with 1 Axes>"
      ]
     },
     "metadata": {
      "needs_background": "light"
     },
     "output_type": "display_data"
    }
   ],
   "source": [
    "# Plot the value count\n",
    "sns.countplot(brain_df['Class'])"
   ]
  },
  {
   "cell_type": "code",
   "execution_count": 7,
   "metadata": {
    "execution": {
     "iopub.execute_input": "2021-06-02T11:26:09.266742Z",
     "iopub.status.busy": "2021-06-02T11:26:09.266414Z",
     "iopub.status.idle": "2021-06-02T11:26:11.233385Z",
     "shell.execute_reply": "2021-06-02T11:26:11.232438Z",
     "shell.execute_reply.started": "2021-06-02T11:26:09.266712Z"
    }
   },
   "outputs": [],
   "source": [
    "# Get image paths to build a dictionary for data generators\n",
    "path_list = []\n",
    "base_path = '../input/brain-tumor/Brain Tumor/Brain Tumor'\n",
    "for entry in os.listdir(base_path):\n",
    "    path_list.append(os.path.join(base_path, entry))"
   ]
  },
  {
   "cell_type": "code",
   "execution_count": 8,
   "metadata": {
    "execution": {
     "iopub.execute_input": "2021-06-02T11:26:12.895628Z",
     "iopub.status.busy": "2021-06-02T11:26:12.895301Z",
     "iopub.status.idle": "2021-06-02T11:26:12.921963Z",
     "shell.execute_reply": "2021-06-02T11:26:12.921063Z",
     "shell.execute_reply.started": "2021-06-02T11:26:12.895597Z"
    }
   },
   "outputs": [
    {
     "data": {
      "text/html": [
       "<div>\n",
       "<style scoped>\n",
       "    .dataframe tbody tr th:only-of-type {\n",
       "        vertical-align: middle;\n",
       "    }\n",
       "\n",
       "    .dataframe tbody tr th {\n",
       "        vertical-align: top;\n",
       "    }\n",
       "\n",
       "    .dataframe thead th {\n",
       "        text-align: right;\n",
       "    }\n",
       "</style>\n",
       "<table border=\"1\" class=\"dataframe\">\n",
       "  <thead>\n",
       "    <tr style=\"text-align: right;\">\n",
       "      <th></th>\n",
       "      <th>Image</th>\n",
       "      <th>Class</th>\n",
       "      <th>Path</th>\n",
       "    </tr>\n",
       "  </thead>\n",
       "  <tbody>\n",
       "    <tr>\n",
       "      <th>0</th>\n",
       "      <td>Image1</td>\n",
       "      <td>0</td>\n",
       "      <td>../input/brain-tumor/Brain Tumor/Brain Tumor/I...</td>\n",
       "    </tr>\n",
       "    <tr>\n",
       "      <th>1</th>\n",
       "      <td>Image2</td>\n",
       "      <td>0</td>\n",
       "      <td>../input/brain-tumor/Brain Tumor/Brain Tumor/I...</td>\n",
       "    </tr>\n",
       "    <tr>\n",
       "      <th>2</th>\n",
       "      <td>Image3</td>\n",
       "      <td>1</td>\n",
       "      <td>../input/brain-tumor/Brain Tumor/Brain Tumor/I...</td>\n",
       "    </tr>\n",
       "    <tr>\n",
       "      <th>3</th>\n",
       "      <td>Image4</td>\n",
       "      <td>1</td>\n",
       "      <td>../input/brain-tumor/Brain Tumor/Brain Tumor/I...</td>\n",
       "    </tr>\n",
       "    <tr>\n",
       "      <th>4</th>\n",
       "      <td>Image5</td>\n",
       "      <td>0</td>\n",
       "      <td>../input/brain-tumor/Brain Tumor/Brain Tumor/I...</td>\n",
       "    </tr>\n",
       "  </tbody>\n",
       "</table>\n",
       "</div>"
      ],
      "text/plain": [
       "    Image  Class                                               Path\n",
       "0  Image1      0  ../input/brain-tumor/Brain Tumor/Brain Tumor/I...\n",
       "1  Image2      0  ../input/brain-tumor/Brain Tumor/Brain Tumor/I...\n",
       "2  Image3      1  ../input/brain-tumor/Brain Tumor/Brain Tumor/I...\n",
       "3  Image4      1  ../input/brain-tumor/Brain Tumor/Brain Tumor/I...\n",
       "4  Image5      0  ../input/brain-tumor/Brain Tumor/Brain Tumor/I..."
      ]
     },
     "execution_count": 8,
     "metadata": {},
     "output_type": "execute_result"
    }
   ],
   "source": [
    "# Create path dictionary and map it to brain_df['paths']\n",
    "paths_dict = {os.path.splitext(os.path.basename(x))[0]: x for x in path_list}\n",
    "brain_df['Path'] = brain_df['Image'].map(paths_dict.get)\n",
    "brain_df.head()"
   ]
  },
  {
   "cell_type": "code",
   "execution_count": 9,
   "metadata": {
    "execution": {
     "iopub.execute_input": "2021-06-02T11:26:14.425150Z",
     "iopub.status.busy": "2021-06-02T11:26:14.424613Z",
     "iopub.status.idle": "2021-06-02T11:26:15.037035Z",
     "shell.execute_reply": "2021-06-02T11:26:15.030935Z",
     "shell.execute_reply.started": "2021-06-02T11:26:14.425103Z"
    }
   },
   "outputs": [
    {
     "data": {
      "image/png": "[encoded data removed]",
      "text/plain": [
       "<Figure size 432x288 with 9 Axes>"
      ]
     },
     "metadata": {},
     "output_type": "display_data"
    }
   ],
   "source": [
    "# Plot few samples\n",
    "for x in range(0,9):\n",
    "    plt.subplot(3,3,x+1)\n",
    "    # Remove x and y axis scales\n",
    "    plt.xticks([])\n",
    "    plt.yticks([])\n",
    "    img = imread(brain_df['Path'][x])\n",
    "    plt.imshow(img)\n",
    "    plt.xlabel(brain_df['Class'][x])"
   ]
  },
  {
   "cell_type": "code",
   "execution_count": 10,
   "metadata": {
    "execution": {
     "iopub.execute_input": "2021-06-02T11:26:17.003018Z",
     "iopub.status.busy": "2021-06-02T11:26:17.002658Z",
     "iopub.status.idle": "2021-06-02T11:26:17.367493Z",
     "shell.execute_reply": "2021-06-02T11:26:17.366714Z",
     "shell.execute_reply.started": "2021-06-02T11:26:17.002987Z"
    }
   },
   "outputs": [],
   "source": [
    "# Split brain_df into test and train lists for data generators\n",
    "brain_df['split'] = np.random.randn(brain_df.shape[0], 1)\n",
    "\n",
    "msk = np.random.rand(len(brain_df)) <= 0.8\n",
    "\n",
    "train_df = brain_df[msk]\n",
    "test_df = brain_df[~msk]\n",
    "train_df.to_csv('brain_tumor_train.csv', index=False)\n",
    "test_df.to_csv('brain_tumor_test.csv', index=False)\n",
    "train_list = train_df.values.tolist()\n",
    "test_list = test_df.values.tolist()"
   ]
  },
  {
   "cell_type": "markdown",
   "metadata": {},
   "source": [
    "## Data Preprocessing\n",
    "1. Data Cleaning. Data is clean; images are stored in one folder with feature and label details located in csv file.\n",
    "2. Data Integration. Data is coming from one source; no data integration techniques were applied.\n",
    "3. Data Transformation. Images were resized to 224x224 (below, in the generator function) for MobileNetV2 pretrained base, converted to float and numpy array format for CNN. For the future: data augmentation?\n",
    "4. Data Reduction. No data reduction techniques were used (ignoring image size reduction from 240x240 to 224x224). Furthermore, we cannot decrease the number of channels (could have been a possibility since images are almost black and white) due to the pretrained model that expects 3 channels as the input.\n",
    "5. Data discretization. Not applicable to images; the inputs are already discrete."
   ]
  },
  {
   "cell_type": "markdown",
   "metadata": {},
   "source": [
    "### Data Generator\n",
    "Below is a generator function taken from [this article](https://medium.com/@anuj_shah/creating-custom-data-generator-for-training-deep-learning-models-part-2-be9ad08f3f0e). Used due to CPU limitations."
   ]
  },
  {
   "cell_type": "code",
   "execution_count": 11,
   "metadata": {
    "execution": {
     "iopub.execute_input": "2021-06-02T11:26:20.304640Z",
     "iopub.status.busy": "2021-06-02T11:26:20.304307Z",
     "iopub.status.idle": "2021-06-02T11:26:20.505663Z",
     "shell.execute_reply": "2021-06-02T11:26:20.504845Z",
     "shell.execute_reply.started": "2021-06-02T11:26:20.304608Z"
    }
   },
   "outputs": [],
   "source": [
    "from random import shuffle\n",
    "import cv2\n",
    "def generator(samples, batch_size=32,shuffle_data=True):\n",
    "    \"\"\"\n",
    "    Yields the next training batch.\n",
    "    Suppose `samples` is an array [[image1_filename,label1], [image2_filename,label2],...].\n",
    "    \"\"\"\n",
    "    num_samples = len(samples)\n",
    "    while True: # Loop forever so the generator never terminates\n",
    "        shuffle(samples)\n",
    "\n",
    "        # Get index to start each batch: [0, batch_size, 2*batch_size, ..., max multiple of batch_size <= num_samples]\n",
    "        for offset in range(0, num_samples, batch_size):\n",
    "            # Get the samples you'll use in this batch\n",
    "            batch_samples = samples[offset:offset+batch_size]\n",
    "\n",
    "            # Initialise X_train and y_train arrays for this batch\n",
    "            X_train = []\n",
    "            y_train = []\n",
    "\n",
    "            # For each example\n",
    "            for batch_sample in batch_samples:\n",
    "                # Load image (X) and label (y)\n",
    "                label = batch_sample[1]\n",
    "                img_path = batch_sample[2]\n",
    "                img =  cv2.imread(img_path)\n",
    "                \n",
    "                # apply any kind of preprocessing\n",
    "                # img = cv2.resize(img,(resize,resize))\n",
    "                img = img.astype(np.float32)\n",
    "                # Add example to arrays\n",
    "                X_train.append(keras.applications.nasnet.preprocess_input(img))\n",
    "                y_train.append(label)\n",
    "\n",
    "            # Make sure they're numpy arrays (as opposed to lists)\n",
    "            X_train = np.array(X_train)\n",
    "            y_train = np.array(y_train)\n",
    "\n",
    "            # The generator-y part: yield the next training batch            \n",
    "            yield X_train, y_train"
   ]
  },
  {
   "cell_type": "code",
   "execution_count": 12,
   "metadata": {
    "execution": {
     "iopub.execute_input": "2021-06-02T11:26:26.557015Z",
     "iopub.status.busy": "2021-06-02T11:26:26.556584Z",
     "iopub.status.idle": "2021-06-02T11:26:26.561567Z",
     "shell.execute_reply": "2021-06-02T11:26:26.560305Z",
     "shell.execute_reply.started": "2021-06-02T11:26:26.556971Z"
    }
   },
   "outputs": [],
   "source": [
    "# Create test and train generators\n",
    "train_generator = generator(train_list)\n",
    "test_generator = generator(test_list)"
   ]
  },
  {
   "cell_type": "markdown",
   "metadata": {},
   "source": [
    "## Building Model"
   ]
  },
  {
   "cell_type": "code",
   "execution_count": 14,
   "metadata": {
    "execution": {
     "iopub.execute_input": "2021-06-02T11:26:36.882170Z",
     "iopub.status.busy": "2021-06-02T11:26:36.881764Z",
     "iopub.status.idle": "2021-06-02T11:26:41.640948Z",
     "shell.execute_reply": "2021-06-02T11:26:41.639157Z",
     "shell.execute_reply.started": "2021-06-02T11:26:36.882136Z"
    }
   },
   "outputs": [
    {
     "name": "stdout",
     "output_type": "stream",
     "text": [
      "Downloading data from https://storage.googleapis.com/tensorflow/keras-applications/mobilenet_v2/mobilenet_v2_weights_tf_dim_ordering_tf_kernels_1.0_224_no_top.h5\n",
      "9412608/9406464 [==============================] - 0s 0us/step\n",
      "Model: \"sequential\"\n",
      "_________________________________________________________________\n",
      "Layer (type)                 Output Shape              Param #   \n",
      "=================================================================\n",
      "mobilenetv2_1.00_224 (Functi (None, 7, 7, 1280)        2257984   \n",
      "_________________________________________________________________\n",
      "global_average_pooling2d (Gl (None, 1280)              0         \n",
      "_________________________________________________________________\n",
      "dropout (Dropout)            (None, 1280)              0         \n",
      "_________________________________________________________________\n",
      "preds (Dense)                (None, 1)                 1281      \n",
      "=================================================================\n",
      "Total params: 2,259,265\n",
      "Trainable params: 1,281\n",
      "Non-trainable params: 2,257,984\n",
      "_________________________________________________________________\n"
     ]
    }
   ],
   "source": [
    "model = Sequential([\n",
    "    # base\n",
    "    MobileNetV2(input_shape=(224, 224, 3),include_top=False, weights='imagenet'),\n",
    "    layers.GlobalAveragePooling2D(),\n",
    "    layers.Dropout(0.2),\n",
    "    layers.Dense(units=1, activation='sigmoid',name='preds'),   \n",
    "])\n",
    "model.layers[0].trainable= False\n",
    "# show model summary\n",
    "model.summary()"
   ]
  },
  {
   "cell_type": "markdown",
   "metadata": {},
   "source": [
    "## Optimization"
   ]
  },
  {
   "cell_type": "code",
   "execution_count": 15,
   "metadata": {
    "execution": {
     "iopub.execute_input": "2021-06-02T11:26:50.521341Z",
     "iopub.status.busy": "2021-06-02T11:26:50.521012Z",
     "iopub.status.idle": "2021-06-02T11:26:50.541233Z",
     "shell.execute_reply": "2021-06-02T11:26:50.540188Z",
     "shell.execute_reply.started": "2021-06-02T11:26:50.521310Z"
    }
   },
   "outputs": [],
   "source": [
    "model.compile(\n",
    "    # Set the loss as binary_crossentropy\n",
    "    loss='binary_crossentropy',\n",
    "    # Set the optimizer to Adam\n",
    "    optimizer=keras.optimizers.Adam(epsilon=0.01),\n",
    "    # Set the metric as accuracy\n",
    "    metrics=['binary_accuracy']\n",
    ")"
   ]
  },
  {
   "cell_type": "markdown",
   "metadata": {},
   "source": [
    "## Training Model"
   ]
  },
  {
   "cell_type": "code",
   "execution_count": 16,
   "metadata": {
    "execution": {
     "iopub.execute_input": "2021-06-02T11:26:57.159642Z",
     "iopub.status.busy": "2021-06-02T11:26:57.159300Z",
     "iopub.status.idle": "2021-06-02T11:26:57.164409Z",
     "shell.execute_reply": "2021-06-02T11:26:57.163269Z",
     "shell.execute_reply.started": "2021-06-02T11:26:57.159611Z"
    }
   },
   "outputs": [],
   "source": [
    "# Set parameters for model training\n",
    "batch_size = 32\n",
    "train_size = len(train_list)\n",
    "test_size = len(test_list)\n",
    "steps_per_epoch = train_size//batch_size\n",
    "validation_steps = test_size//batch_size"
   ]
  },
  {
   "cell_type": "code",
   "execution_count": 17,
   "metadata": {
    "execution": {
     "iopub.execute_input": "2021-06-02T11:26:59.545092Z",
     "iopub.status.busy": "2021-06-02T11:26:59.544729Z",
     "iopub.status.idle": "2021-06-02T11:26:59.549538Z",
     "shell.execute_reply": "2021-06-02T11:26:59.548513Z",
     "shell.execute_reply.started": "2021-06-02T11:26:59.545060Z"
    }
   },
   "outputs": [],
   "source": [
    "# Use early stopping to cut resource wasting\n",
    "early_stopping = keras.callbacks.EarlyStopping(\n",
    "    patience=10,\n",
    "    min_delta=0.001,\n",
    "    restore_best_weights=True,\n",
    ")"
   ]
  },
  {
   "cell_type": "code",
   "execution_count": 18,
   "metadata": {
    "execution": {
     "iopub.execute_input": "2021-06-02T11:27:06.455702Z",
     "iopub.status.busy": "2021-06-02T11:27:06.455360Z",
     "iopub.status.idle": "2021-06-02T11:39:45.677139Z",
     "shell.execute_reply": "2021-06-02T11:39:45.674656Z",
     "shell.execute_reply.started": "2021-06-02T11:27:06.455670Z"
    }
   },
   "outputs": [
    {
     "name": "stdout",
     "output_type": "stream",
     "text": [
      "Epoch 1/110\n",
      "94/94 [==============================] - 97s 1s/step - loss: 0.6116 - binary_accuracy: 0.6818 - val_loss: 0.4113 - val_binary_accuracy: 0.8342\n",
      "Epoch 2/110\n",
      "94/94 [==============================] - 14s 145ms/step - loss: 0.4094 - binary_accuracy: 0.8265 - val_loss: 0.3342 - val_binary_accuracy: 0.8723\n",
      "Epoch 3/110\n",
      "94/94 [==============================] - 12s 127ms/step - loss: 0.3498 - binary_accuracy: 0.8473 - val_loss: 0.2996 - val_binary_accuracy: 0.8832\n",
      "Epoch 4/110\n",
      "94/94 [==============================] - 16s 166ms/step - loss: 0.3266 - binary_accuracy: 0.8633 - val_loss: 0.2750 - val_binary_accuracy: 0.8967\n",
      "Epoch 5/110\n",
      "94/94 [==============================] - 15s 164ms/step - loss: 0.3066 - binary_accuracy: 0.8730 - val_loss: 0.2602 - val_binary_accuracy: 0.9008\n",
      "Epoch 6/110\n",
      "94/94 [==============================] - 15s 161ms/step - loss: 0.2895 - binary_accuracy: 0.8790 - val_loss: 0.2482 - val_binary_accuracy: 0.9090\n",
      "Epoch 7/110\n",
      "94/94 [==============================] - 14s 154ms/step - loss: 0.2819 - binary_accuracy: 0.8827 - val_loss: 0.2400 - val_binary_accuracy: 0.9144\n",
      "Epoch 8/110\n",
      "94/94 [==============================] - 14s 145ms/step - loss: 0.2698 - binary_accuracy: 0.8964 - val_loss: 0.2325 - val_binary_accuracy: 0.9158\n",
      "Epoch 9/110\n",
      "94/94 [==============================] - 14s 152ms/step - loss: 0.2603 - binary_accuracy: 0.8867 - val_loss: 0.2253 - val_binary_accuracy: 0.9185\n",
      "Epoch 10/110\n",
      "94/94 [==============================] - 15s 161ms/step - loss: 0.2550 - binary_accuracy: 0.8930 - val_loss: 0.2387 - val_binary_accuracy: 0.9049\n",
      "Epoch 11/110\n",
      "94/94 [==============================] - 15s 165ms/step - loss: 0.2501 - binary_accuracy: 0.8951 - val_loss: 0.2292 - val_binary_accuracy: 0.9117\n",
      "Epoch 12/110\n",
      "94/94 [==============================] - 15s 162ms/step - loss: 0.2412 - binary_accuracy: 0.9034 - val_loss: 0.2187 - val_binary_accuracy: 0.9158\n",
      "Epoch 13/110\n",
      "94/94 [==============================] - 14s 145ms/step - loss: 0.2404 - binary_accuracy: 0.9051 - val_loss: 0.2289 - val_binary_accuracy: 0.9035\n",
      "Epoch 14/110\n",
      "94/94 [==============================] - 14s 147ms/step - loss: 0.2252 - binary_accuracy: 0.9104 - val_loss: 0.2056 - val_binary_accuracy: 0.9239\n",
      "Epoch 15/110\n",
      "94/94 [==============================] - 14s 148ms/step - loss: 0.2297 - binary_accuracy: 0.9041 - val_loss: 0.2040 - val_binary_accuracy: 0.9280\n",
      "Epoch 16/110\n",
      "94/94 [==============================] - 15s 155ms/step - loss: 0.2278 - binary_accuracy: 0.9051 - val_loss: 0.2083 - val_binary_accuracy: 0.9212\n",
      "Epoch 17/110\n",
      "94/94 [==============================] - 14s 147ms/step - loss: 0.2224 - binary_accuracy: 0.9118 - val_loss: 0.2011 - val_binary_accuracy: 0.9171\n",
      "Epoch 18/110\n",
      "94/94 [==============================] - 14s 146ms/step - loss: 0.2158 - binary_accuracy: 0.9168 - val_loss: 0.1994 - val_binary_accuracy: 0.9212\n",
      "Epoch 19/110\n",
      "94/94 [==============================] - 12s 124ms/step - loss: 0.2095 - binary_accuracy: 0.9161 - val_loss: 0.2189 - val_binary_accuracy: 0.9158\n",
      "Epoch 20/110\n",
      "94/94 [==============================] - 11s 113ms/step - loss: 0.2134 - binary_accuracy: 0.9128 - val_loss: 0.2098 - val_binary_accuracy: 0.9130\n",
      "Epoch 21/110\n",
      "94/94 [==============================] - 13s 134ms/step - loss: 0.2076 - binary_accuracy: 0.9215 - val_loss: 0.1951 - val_binary_accuracy: 0.9226\n",
      "Epoch 22/110\n",
      "94/94 [==============================] - 13s 136ms/step - loss: 0.2138 - binary_accuracy: 0.9154 - val_loss: 0.1909 - val_binary_accuracy: 0.9266\n",
      "Epoch 23/110\n",
      "94/94 [==============================] - 11s 120ms/step - loss: 0.2070 - binary_accuracy: 0.9174 - val_loss: 0.1908 - val_binary_accuracy: 0.9239\n",
      "Epoch 24/110\n",
      "94/94 [==============================] - 11s 118ms/step - loss: 0.1988 - binary_accuracy: 0.9218 - val_loss: 0.2002 - val_binary_accuracy: 0.9171\n",
      "Epoch 25/110\n",
      "94/94 [==============================] - 11s 112ms/step - loss: 0.2100 - binary_accuracy: 0.9158 - val_loss: 0.1891 - val_binary_accuracy: 0.9266\n",
      "Epoch 26/110\n",
      "94/94 [==============================] - 11s 121ms/step - loss: 0.1983 - binary_accuracy: 0.9215 - val_loss: 0.1888 - val_binary_accuracy: 0.9293\n",
      "Epoch 27/110\n",
      "94/94 [==============================] - 11s 116ms/step - loss: 0.2068 - binary_accuracy: 0.9144 - val_loss: 0.1845 - val_binary_accuracy: 0.9293\n",
      "Epoch 28/110\n",
      "94/94 [==============================] - 10s 111ms/step - loss: 0.1988 - binary_accuracy: 0.9208 - val_loss: 0.1895 - val_binary_accuracy: 0.9293\n",
      "Epoch 29/110\n",
      "94/94 [==============================] - 10s 102ms/step - loss: 0.1919 - binary_accuracy: 0.9198 - val_loss: 0.1896 - val_binary_accuracy: 0.9226\n",
      "Epoch 30/110\n",
      "94/94 [==============================] - 9s 100ms/step - loss: 0.1964 - binary_accuracy: 0.9218 - val_loss: 0.1863 - val_binary_accuracy: 0.9280\n",
      "Epoch 31/110\n",
      "94/94 [==============================] - 9s 96ms/step - loss: 0.1894 - binary_accuracy: 0.9268 - val_loss: 0.1852 - val_binary_accuracy: 0.9266\n",
      "Epoch 32/110\n",
      "94/94 [==============================] - 9s 98ms/step - loss: 0.1840 - binary_accuracy: 0.9245 - val_loss: 0.1825 - val_binary_accuracy: 0.9334\n",
      "Epoch 33/110\n",
      "94/94 [==============================] - 9s 98ms/step - loss: 0.1931 - binary_accuracy: 0.9255 - val_loss: 0.1837 - val_binary_accuracy: 0.9321\n",
      "Epoch 34/110\n",
      "94/94 [==============================] - 9s 99ms/step - loss: 0.1891 - binary_accuracy: 0.9238 - val_loss: 0.1870 - val_binary_accuracy: 0.9321\n",
      "Epoch 35/110\n",
      "94/94 [==============================] - 10s 103ms/step - loss: 0.1870 - binary_accuracy: 0.9258 - val_loss: 0.1870 - val_binary_accuracy: 0.9266\n",
      "Epoch 36/110\n",
      "94/94 [==============================] - 10s 105ms/step - loss: 0.1906 - binary_accuracy: 0.9235 - val_loss: 0.1851 - val_binary_accuracy: 0.9307\n",
      "Epoch 37/110\n",
      "94/94 [==============================] - 10s 102ms/step - loss: 0.1815 - binary_accuracy: 0.9285 - val_loss: 0.1882 - val_binary_accuracy: 0.9293\n",
      "Epoch 38/110\n",
      "94/94 [==============================] - 9s 100ms/step - loss: 0.1926 - binary_accuracy: 0.9245 - val_loss: 0.1805 - val_binary_accuracy: 0.9321\n",
      "Epoch 39/110\n",
      "94/94 [==============================] - 9s 93ms/step - loss: 0.1799 - binary_accuracy: 0.9265 - val_loss: 0.1787 - val_binary_accuracy: 0.9293\n",
      "Epoch 40/110\n",
      "94/94 [==============================] - 9s 91ms/step - loss: 0.2020 - binary_accuracy: 0.9184 - val_loss: 0.1780 - val_binary_accuracy: 0.9361\n",
      "Epoch 41/110\n",
      "94/94 [==============================] - 8s 90ms/step - loss: 0.1698 - binary_accuracy: 0.9352 - val_loss: 0.1806 - val_binary_accuracy: 0.9334\n",
      "Epoch 42/110\n",
      "94/94 [==============================] - 9s 97ms/step - loss: 0.1875 - binary_accuracy: 0.9208 - val_loss: 0.1918 - val_binary_accuracy: 0.9253\n",
      "Epoch 43/110\n",
      "94/94 [==============================] - 9s 97ms/step - loss: 0.1837 - binary_accuracy: 0.9291 - val_loss: 0.1802 - val_binary_accuracy: 0.9266\n",
      "Epoch 44/110\n",
      "94/94 [==============================] - 9s 93ms/step - loss: 0.1762 - binary_accuracy: 0.9281 - val_loss: 0.1767 - val_binary_accuracy: 0.9321\n",
      "Epoch 45/110\n",
      "94/94 [==============================] - 9s 94ms/step - loss: 0.1836 - binary_accuracy: 0.9275 - val_loss: 0.1802 - val_binary_accuracy: 0.9375\n",
      "Epoch 46/110\n",
      "94/94 [==============================] - 9s 92ms/step - loss: 0.1776 - binary_accuracy: 0.9325 - val_loss: 0.1950 - val_binary_accuracy: 0.9253\n",
      "Epoch 47/110\n",
      "94/94 [==============================] - 9s 99ms/step - loss: 0.1822 - binary_accuracy: 0.9265 - val_loss: 0.1911 - val_binary_accuracy: 0.9212\n",
      "Epoch 48/110\n",
      "94/94 [==============================] - 9s 94ms/step - loss: 0.1712 - binary_accuracy: 0.9298 - val_loss: 0.1786 - val_binary_accuracy: 0.9334\n",
      "Epoch 49/110\n",
      "94/94 [==============================] - 9s 94ms/step - loss: 0.1718 - binary_accuracy: 0.9298 - val_loss: 0.1773 - val_binary_accuracy: 0.9361\n",
      "Epoch 50/110\n",
      "94/94 [==============================] - 9s 96ms/step - loss: 0.1858 - binary_accuracy: 0.9241 - val_loss: 0.1835 - val_binary_accuracy: 0.9266\n",
      "Epoch 51/110\n",
      "94/94 [==============================] - 9s 90ms/step - loss: 0.1726 - binary_accuracy: 0.9278 - val_loss: 0.1718 - val_binary_accuracy: 0.9375\n",
      "Epoch 52/110\n",
      "94/94 [==============================] - 9s 95ms/step - loss: 0.1655 - binary_accuracy: 0.9415 - val_loss: 0.1796 - val_binary_accuracy: 0.9361\n",
      "Epoch 53/110\n",
      "94/94 [==============================] - 9s 96ms/step - loss: 0.1698 - binary_accuracy: 0.9342 - val_loss: 0.1816 - val_binary_accuracy: 0.9307\n",
      "Epoch 54/110\n",
      "94/94 [==============================] - 9s 98ms/step - loss: 0.1862 - binary_accuracy: 0.9228 - val_loss: 0.1758 - val_binary_accuracy: 0.9361\n",
      "Epoch 55/110\n",
      "94/94 [==============================] - 9s 91ms/step - loss: 0.1671 - binary_accuracy: 0.9328 - val_loss: 0.1830 - val_binary_accuracy: 0.9293\n",
      "Epoch 56/110\n",
      "94/94 [==============================] - 8s 89ms/step - loss: 0.1760 - binary_accuracy: 0.9275 - val_loss: 0.1795 - val_binary_accuracy: 0.9280\n",
      "Epoch 57/110\n",
      "94/94 [==============================] - 8s 90ms/step - loss: 0.1727 - binary_accuracy: 0.9328 - val_loss: 0.1775 - val_binary_accuracy: 0.9334\n",
      "Epoch 58/110\n",
      "94/94 [==============================] - 9s 94ms/step - loss: 0.1837 - binary_accuracy: 0.9278 - val_loss: 0.1791 - val_binary_accuracy: 0.9321\n",
      "Epoch 59/110\n",
      "94/94 [==============================] - 9s 91ms/step - loss: 0.1700 - binary_accuracy: 0.9318 - val_loss: 0.1724 - val_binary_accuracy: 0.9402\n",
      "Epoch 60/110\n",
      "94/94 [==============================] - 9s 92ms/step - loss: 0.1768 - binary_accuracy: 0.9295 - val_loss: 0.1963 - val_binary_accuracy: 0.9117\n",
      "Epoch 61/110\n",
      "94/94 [==============================] - 8s 90ms/step - loss: 0.1705 - binary_accuracy: 0.9338 - val_loss: 0.1856 - val_binary_accuracy: 0.9212\n",
      "Saved model to disk\n"
     ]
    }
   ],
   "source": [
    "# Train the model\n",
    "history = model.fit_generator(\n",
    "    train_generator,\n",
    "    steps_per_epoch = steps_per_epoch,\n",
    "    epochs=110,\n",
    "    validation_data=test_generator,\n",
    "    validation_steps = validation_steps,\n",
    "    verbose=1,\n",
    "    callbacks = [early_stopping]\n",
    ")\n",
    "model.save(\"model_brain_adam.h5\")\n",
    "print(\"Saved model to disk\")"
   ]
  },
  {
   "cell_type": "markdown",
   "metadata": {},
   "source": [
    "## Results"
   ]
  },
  {
   "cell_type": "code",
   "execution_count": 19,
   "metadata": {
    "execution": {
     "iopub.execute_input": "2021-06-02T11:43:04.571698Z",
     "iopub.status.busy": "2021-06-02T11:43:04.571234Z",
     "iopub.status.idle": "2021-06-02T11:43:04.942826Z",
     "shell.execute_reply": "2021-06-02T11:43:04.941790Z",
     "shell.execute_reply.started": "2021-06-02T11:43:04.571656Z"
    }
   },
   "outputs": [
    {
     "name": "stdout",
     "output_type": "stream",
     "text": [
      "Best Validation Loss: 0.1718\n",
      "Best Validation Accuracy: 0.9402\n"
     ]
    },
    {
     "data": {
      "image/png": "[encoded data removed]",
      "text/plain": [
       "<Figure size 432x288 with 1 Axes>"
      ]
     },
     "metadata": {
      "needs_background": "light"
     },
     "output_type": "display_data"
    },
    {
     "data": {
      "image/png": "[encoded data removed]",
      "text/plain": [
       "<Figure size 432x288 with 1 Axes>"
      ]
     },
     "metadata": {
      "needs_background": "light"
     },
     "output_type": "display_data"
    }
   ],
   "source": [
    "# Graph loss and binary accuracy graphs\n",
    "history_df = pd.DataFrame(history.history)\n",
    "# Start the plot at epoch 5\n",
    "history_df.loc[5:, ['loss', 'val_loss']].plot()\n",
    "history_df.loc[5:, ['binary_accuracy', 'val_binary_accuracy']].plot()\n",
    "\n",
    "print((\"Best Validation Loss: {:0.4f}\" +\\\n",
    "      \"\\nBest Validation Accuracy: {:0.4f}\")\\\n",
    "      .format(history_df['val_loss'].min(), \n",
    "              history_df['val_binary_accuracy'].max()))"
   ]
  },
  {
   "cell_type": "code",
   "execution_count": 22,
   "metadata": {
    "execution": {
     "iopub.execute_input": "2021-06-02T11:48:55.299996Z",
     "iopub.status.busy": "2021-06-02T11:48:55.299595Z",
     "iopub.status.idle": "2021-06-02T11:48:59.481782Z",
     "shell.execute_reply": "2021-06-02T11:48:59.480912Z",
     "shell.execute_reply.started": "2021-06-02T11:48:55.299964Z"
    }
   },
   "outputs": [
    {
     "name": "stdout",
     "output_type": "stream",
     "text": [
      "23/23 [==============================] - 2s 67ms/step - loss: 0.1742 - binary_accuracy: 0.9361\n",
      "Eval loss: 0.17418691515922546\n",
      "Eval accuracy: 0.936141312122345\n"
     ]
    }
   ],
   "source": [
    "# Evaluate samples using the model I've pretrained, saved, and loaded back\n",
    "pretrained_cnn = keras.models.load_model('./model_brain_adam.h5')\n",
    "eval_score = pretrained_cnn.evaluate(test_generator, steps = validation_steps)\n",
    "# print loss score\n",
    "print('Eval loss:',eval_score[0])\n",
    "# print accuracy score\n",
    "print('Eval accuracy:',eval_score[1])"
   ]
  },
  {
   "cell_type": "code",
   "execution_count": 23,
   "metadata": {
    "execution": {
     "iopub.execute_input": "2021-06-02T11:49:04.946669Z",
     "iopub.status.busy": "2021-06-02T11:49:04.946309Z",
     "iopub.status.idle": "2021-06-02T11:49:07.036705Z",
     "shell.execute_reply": "2021-06-02T11:49:07.035798Z",
     "shell.execute_reply.started": "2021-06-02T11:49:04.946638Z"
    }
   },
   "outputs": [
    {
     "data": {
      "text/plain": [
       "{'No Tumor': {'precision': 0.9421686746987952,\n",
       "  'recall': 0.9444444444444444,\n",
       "  'f1-score': 0.9433051869722556,\n",
       "  'support': 414},\n",
       " 'Tumor': {'precision': 0.9283489096573209,\n",
       "  'recall': 0.9254658385093167,\n",
       "  'f1-score': 0.926905132192846,\n",
       "  'support': 322},\n",
       " 'accuracy': 0.936141304347826,\n",
       " 'macro avg': {'precision': 0.935258792178058,\n",
       "  'recall': 0.9349551414768806,\n",
       "  'f1-score': 0.9351051595825508,\n",
       "  'support': 736},\n",
       " 'weighted avg': {'precision': 0.9361225274931502,\n",
       "  'recall': 0.936141304347826,\n",
       "  'f1-score': 0.936130163006264,\n",
       "  'support': 736}}"
      ]
     },
     "execution_count": 23,
     "metadata": {},
     "output_type": "execute_result"
    }
   ],
   "source": [
    "# Output classification report and confusion matrix\n",
    "from sklearn.metrics import confusion_matrix , classification_report\n",
    "# Get predicted and true classes for our report and matrix\n",
    "y_pred = np.rint(pretrained_cnn.predict_generator(test_generator, steps = validation_steps)).astype(int)\n",
    "y_test = [i[1] for i in test_list[0:-2]]\n",
    "target_classes = ['No Tumor','Tumor']\n",
    "\n",
    "classification_report(y_test , y_pred , output_dict = True\n",
    "                      , target_names=target_classes)"
   ]
  },
  {
   "cell_type": "code",
   "execution_count": 24,
   "metadata": {
    "execution": {
     "iopub.execute_input": "2021-06-02T11:49:14.078831Z",
     "iopub.status.busy": "2021-06-02T11:49:14.078475Z",
     "iopub.status.idle": "2021-06-02T11:49:14.087919Z",
     "shell.execute_reply": "2021-06-02T11:49:14.087010Z",
     "shell.execute_reply.started": "2021-06-02T11:49:14.078784Z"
    }
   },
   "outputs": [
    {
     "data": {
      "text/plain": [
       "array([[391,  23],\n",
       "       [ 24, 298]])"
      ]
     },
     "execution_count": 24,
     "metadata": {},
     "output_type": "execute_result"
    }
   ],
   "source": [
    "confusion_matrix(y_test , y_pred ) "
   ]
  },
  {
   "cell_type": "markdown",
   "metadata": {},
   "source": [
    "## Conclusion\n",
    "We misclassified 43 images out of 693, with sensitivity of 94.006% and specificity of 94.272%."
   ]
  }
 ],
 "metadata": {
  "kernelspec": {
   "display_name": "Python 3 (ipykernel)",
   "language": "python",
   "name": "python3"
  },
  "language_info": {
   "codemirror_mode": {
    "name": "ipython",
    "version": 3
   },
   "file_extension": ".py",
   "mimetype": "text/x-python",
   "name": "python",
   "nbconvert_exporter": "python",
   "pygments_lexer": "ipython3",
   "version": "3.9.6"
  }
 },
 "nbformat": 4,
 "nbformat_minor": 4
}
